{
 "cells": [
  {
   "cell_type": "markdown",
   "metadata": {},
   "source": [
    "## Lumerical script example"
   ]
  },
  {
   "cell_type": "code",
   "execution_count": 1,
   "metadata": {},
   "outputs": [
    {
     "name": "stderr",
     "output_type": "stream",
     "text": [
      "C:\\Users\\gutierrez\\AppData\\Local\\Temp\\5\\ipykernel_21136\\2324180109.py:1: DeprecationWarning: the imp module is deprecated in favour of importlib; see the module's documentation for alternative uses\n",
      "  import imp\n"
     ]
    }
   ],
   "source": [
    "import imp\n",
    "lumapi = imp.load_source(\"lumapi\", \"C:/Program Files/Lumerical/v202/api/python/lumapi.py\")\n",
    "MODE = lumapi.MODE(\"Template_Luis.lms\")"
   ]
  },
  {
   "cell_type": "code",
   "execution_count": 2,
   "metadata": {},
   "outputs": [],
   "source": [
    "import lumerical as lum\n",
    "import numpy as  np\n",
    "import matplotlib.pyplot as plt\n",
    "import matplotlib.cm as cm\n",
    "from tqdm.notebook import tqdm, trange\n",
    "\n",
    "import time\n",
    "import matplotlib.patches as patches\n",
    "\n",
    "from scipy.constants import pi, c\n",
    "import snlo.materials as materials\n",
    "\n",
    "#Larger font for plots\n",
    "plt.rcParams.update({'font.size': 18})"
   ]
  },
  {
   "cell_type": "code",
   "execution_count": null,
   "metadata": {},
   "outputs": [],
   "source": [
    "um = 1e-6\n",
    "nm = 1e-9\n",
    "THz = 1e12\n",
    "fs = 1e-15\n",
    "mm = 1e-3"
   ]
  },
  {
   "cell_type": "code",
   "execution_count": null,
   "metadata": {},
   "outputs": [],
   "source": [
    "material_substrate = \"SiO2_analytic\"\n",
    "material_thinfilm = \"LN_analytic_MgO_doped_xne\""
   ]
  },
  {
   "cell_type": "code",
   "execution_count": null,
   "metadata": {},
   "outputs": [],
   "source": [
    "h_LN = 700*nm\n",
    "width_top = 1800*nm\n",
    "h_etch = 350*nm\n",
    "\n",
    "h_slab = h_LN - h_etch\n",
    "w_slab = 20*um\n",
    "h_margin = 5*um\n",
    "h_substrate = 5*um\n",
    "meshsize = 200*nm\n",
    "finemesh = 20*nm\n",
    "\n",
    "theta = 60\n",
    "wg_length = 10*um #Useless in MODE\n",
    "width_top_base = width_top + 2*h_etch/np.tan(theta*pi/180)\n",
    "w_sidewall = h_etch/np.tan(theta*pi/180)\n",
    "\n",
    "MODE.switchtolayout() #You need to do this before changing parameters in Lumerical\n",
    "lum.draw_wg(MODE, material_thinfilm, material_substrate,\n",
    "              h_LN, h_substrate, h_etch, width_top, w_slab, theta, wg_length)\n",
    "lum.add_fine_mesh(MODE, finemesh, h_LN, width_top_base, x_factor=1.2, y_factor=1.5)\n",
    "lum.add_2D_mode_solver(MODE, meshsize, h_LN, h_substrate, \n",
    "                         w_slab, wg_length, h_margin, symmetry='PEC')"
   ]
  },
  {
   "cell_type": "code",
   "execution_count": null,
   "metadata": {},
   "outputs": [],
   "source": [
    "width_top_base/nm"
   ]
  },
  {
   "cell_type": "code",
   "execution_count": null,
   "metadata": {},
   "outputs": [],
   "source": [
    "λ = 1000*nm\n",
    "[neff, ng, loss, tepf] = lum.solve_mode(MODE, λ, nmodes=6)"
   ]
  },
  {
   "cell_type": "code",
   "execution_count": null,
   "metadata": {},
   "outputs": [],
   "source": [
    "neff"
   ]
  },
  {
   "cell_type": "code",
   "execution_count": null,
   "metadata": {},
   "outputs": [],
   "source": [
    "tepf"
   ]
  },
  {
   "cell_type": "code",
   "execution_count": null,
   "metadata": {},
   "outputs": [],
   "source": [
    "MODE.set('detailed dispersion calculation', 0)"
   ]
  },
  {
   "cell_type": "code",
   "execution_count": null,
   "metadata": {},
   "outputs": [],
   "source": []
  },
  {
   "cell_type": "code",
   "execution_count": null,
   "metadata": {},
   "outputs": [],
   "source": [
    "MODE.close()"
   ]
  }
 ],
 "metadata": {
  "kernelspec": {
   "display_name": "Python 3 (ipykernel)",
   "language": "python",
   "name": "python3"
  },
  "language_info": {
   "codemirror_mode": {
    "name": "ipython",
    "version": 3
   },
   "file_extension": ".py",
   "mimetype": "text/x-python",
   "name": "python",
   "nbconvert_exporter": "python",
   "pygments_lexer": "ipython3",
   "version": "3.9.12"
  }
 },
 "nbformat": 4,
 "nbformat_minor": 4
}
